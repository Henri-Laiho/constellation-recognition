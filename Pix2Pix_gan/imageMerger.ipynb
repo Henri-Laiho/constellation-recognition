{
 "cells": [
  {
   "cell_type": "code",
   "execution_count": 50,
   "id": "6eeaa57e",
   "metadata": {},
   "outputs": [],
   "source": [
    "from PIL import Image, ImageOps\n",
    "import os"
   ]
  },
  {
   "cell_type": "code",
   "execution_count": 51,
   "id": "3a145603",
   "metadata": {},
   "outputs": [],
   "source": [
    "PATH = \"./constellations\"\n",
    "imageObjectsTest = os.listdir(os.path.join(PATH, \"test\"))\n",
    "imageObjectsTrain = os.listdir(os.path.join(PATH, \"train\"))\n",
    "outPATH = \"./mergedConstellationsStars2Original\""
   ]
  },
  {
   "cell_type": "code",
   "execution_count": 52,
   "id": "feaa15b7",
   "metadata": {},
   "outputs": [],
   "source": [
    "imageObjects = imageObjectsTest#imageObjectsTest"
   ]
  },
  {
   "cell_type": "code",
   "execution_count": 53,
   "id": "c078f965",
   "metadata": {},
   "outputs": [],
   "source": [
    "folderType = \"test\"\n",
    "for imageObject in imageObjects:\n",
    "    pictures = os.listdir(os.path.join(PATH,folderType, imageObject, \"dotted\"))\n",
    "    for picture in pictures:\n",
    "        img1 = Image.open(os.path.join(PATH,folderType, imageObject, \"dotted\", picture))\n",
    "        img1 = img1.resize((256,256))\n",
    "        break #Take only one picture\n",
    "    pictures = os.listdir(os.path.join(PATH,folderType, imageObject, \"original\"))\n",
    "    img2 = Image.open(os.path.join(PATH, folderType, imageObject, \"original\", pictures[0]))\n",
    "    img2 = img2.resize((256,256))\n",
    "    img2 = ImageOps.grayscale(img2) #Guess grayscale image\n",
    "    image1_size = img1.size\n",
    "    image2_size = img2.size\n",
    "    new_image = Image.new('RGB',(2*image1_size[0], image1_size[1]), (250,250,250))\n",
    "    new_image.paste(img2,(0,0))\n",
    "    new_image.paste(img1,(image2_size[0],0))\n",
    "    new_image.save(f\"{outPATH}/{folderType}/{imageObject}.jpg\",\"JPEG\")"
   ]
  },
  {
   "cell_type": "code",
   "execution_count": null,
   "id": "db2fb1e5",
   "metadata": {},
   "outputs": [],
   "source": []
  },
  {
   "cell_type": "code",
   "execution_count": null,
   "id": "af7f1039",
   "metadata": {},
   "outputs": [],
   "source": []
  }
 ],
 "metadata": {
  "kernelspec": {
   "display_name": "Python 3",
   "language": "python",
   "name": "python3"
  },
  "language_info": {
   "codemirror_mode": {
    "name": "ipython",
    "version": 3
   },
   "file_extension": ".py",
   "mimetype": "text/x-python",
   "name": "python",
   "nbconvert_exporter": "python",
   "pygments_lexer": "ipython3",
   "version": "3.8.5"
  }
 },
 "nbformat": 4,
 "nbformat_minor": 5
}
