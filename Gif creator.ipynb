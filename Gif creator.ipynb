{
 "cells": [
  {
   "cell_type": "code",
   "execution_count": 1,
   "id": "ideal-webmaster",
   "metadata": {},
   "outputs": [],
   "source": [
    "from PIL import Image\n",
    "import os"
   ]
  },
  {
   "cell_type": "markdown",
   "id": "ideal-yahoo",
   "metadata": {},
   "source": [
    "## Load pictures"
   ]
  },
  {
   "cell_type": "code",
   "execution_count": 16,
   "id": "understanding-newark",
   "metadata": {},
   "outputs": [],
   "source": [
    "objectNr = \"object_322_0\"\n",
    "PATH =\"./simulations/simulateSearchingKnownObjectFromStars/4-mean/\"\n",
    "pictureLocation = f\"{PATH}{objectNr}\""
   ]
  },
  {
   "cell_type": "code",
   "execution_count": 17,
   "id": "loving-tours",
   "metadata": {},
   "outputs": [],
   "source": [
    "pictureList = os.listdir(pictureLocation)\n",
    "pictureList.sort()\n",
    "largestIndex = 0\n",
    "for picture in pictureList:\n",
    "    if(not picture.endswith(\"png\")):\n",
    "        pictureList.remove(picture)\n",
    "    else:\n",
    "        pictureNumber = int(picture.replace(\".png\", \"\"))\n",
    "        if(pictureNumber>largestIndex):\n",
    "            largestIndex = pictureNumber\n",
    "            "
   ]
  },
  {
   "cell_type": "code",
   "execution_count": 18,
   "id": "catholic-practitioner",
   "metadata": {},
   "outputs": [],
   "source": [
    "frames = []\n",
    "for i in range(largestIndex):\n",
    "    frames+=[Image.open(f\"{pictureLocation}/{i}.png\")]"
   ]
  },
  {
   "cell_type": "code",
   "execution_count": 19,
   "id": "experimental-pollution",
   "metadata": {},
   "outputs": [],
   "source": [
    "# Save into a GIF file that loops forever\n",
    "frames[0].save(f\"{PATH}{objectNr}.gif\", format='GIF', append_images=frames[1:], save_all=True, duration=150, loop=0)"
   ]
  },
  {
   "cell_type": "code",
   "execution_count": null,
   "id": "neural-bread",
   "metadata": {},
   "outputs": [],
   "source": []
  }
 ],
 "metadata": {
  "kernelspec": {
   "display_name": "Python 3",
   "language": "python",
   "name": "python3"
  },
  "language_info": {
   "codemirror_mode": {
    "name": "ipython",
    "version": 3
   },
   "file_extension": ".py",
   "mimetype": "text/x-python",
   "name": "python",
   "nbconvert_exporter": "python",
   "pygments_lexer": "ipython3",
   "version": "3.8.5"
  }
 },
 "nbformat": 4,
 "nbformat_minor": 5
}
