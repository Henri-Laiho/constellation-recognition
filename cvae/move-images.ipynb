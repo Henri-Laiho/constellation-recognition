{
 "cells": [
  {
   "cell_type": "code",
   "execution_count": 1,
   "metadata": {},
   "outputs": [],
   "source": [
    "import os \n",
    "import re"
   ]
  },
  {
   "cell_type": "code",
   "execution_count": 2,
   "metadata": {},
   "outputs": [],
   "source": [
    "path = \"all\"\n",
    "dirs = os.listdir(path)"
   ]
  },
  {
   "cell_type": "code",
   "execution_count": 7,
   "metadata": {},
   "outputs": [],
   "source": [
    "for pic_dir in dirs:\n",
    "    outline = os.listdir(\"/\".join([path, pic_dir, \"outline\"]))[0]\n",
    "    dotted = os.listdir(\"/\".join([path, pic_dir, \"dotted\"]))[0]\n",
    "    os.rename(\"/\".join([path, pic_dir, \"outline\",  outline]), \"/\".join([\"all_outlines\", f\"{pic_dir}_{outline}\"]))\n",
    "    os.rename(\"/\".join([path, pic_dir, \"dotted\", dotted]), \"/\".join([\"all_dotted\", f\"{pic_dir}_{dotted}\"]))"
   ]
  }
 ],
 "metadata": {
  "kernelspec": {
   "display_name": "Python 3",
   "language": "python",
   "name": "python3"
  },
  "language_info": {
   "codemirror_mode": {
    "name": "ipython",
    "version": 3
   },
   "file_extension": ".py",
   "mimetype": "text/x-python",
   "name": "python",
   "nbconvert_exporter": "python",
   "pygments_lexer": "ipython3",
   "version": "3.7.9"
  }
 },
 "nbformat": 4,
 "nbformat_minor": 4
}
